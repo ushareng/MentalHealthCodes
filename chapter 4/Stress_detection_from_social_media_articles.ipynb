{
  "nbformat": 4,
  "nbformat_minor": 0,
  "metadata": {
    "colab": {
      "provenance": [],
      "gpuType": "T4"
    },
    "kernelspec": {
      "name": "python3",
      "display_name": "Python 3"
    },
    "language_info": {
      "name": "python"
    },
    "accelerator": "GPU"
  },
  "cells": [
    {
      "cell_type": "markdown",
      "source": [
        "In this part we take a reddit thread dataset- data  and perform human stress detection. The dataset is created using various articles from reddit threads and each article is annotated with a label of ‘0’ or ‘1’ , where '0' signifies a Stress Negative article and '1' signifies a Stress Positive article. There are more than 3000 articles in the dataset divided into title, body and a combination of title and body.\n",
        "\n",
        "\n",
        "\n",
        "This task can be viewed as a simple text classification task where we make use of the keras nlp library to easily complete this task. KerasNLP is a very easy to use and convenient library which has a lot of pretrained models which can be used as plug-and-play models as per our requirement. So for this particular task we will make use of the Roberta Classifier pipeline which we will just load and train it using our reddit thread dataset to make our predictions.\n"
      ],
      "metadata": {
        "id": "KXnxTMaYtCsw"
      }
    },
    {
      "cell_type": "code",
      "source": [
        "!pip install keras-nlp -q"
      ],
      "metadata": {
        "colab": {
          "base_uri": "https://localhost:8080/"
        },
        "id": "slAblvfKTr1O",
        "outputId": "5d546202-6870-46bd-8e50-53e2141d76d9"
      },
      "execution_count": null,
      "outputs": [
        {
          "output_type": "stream",
          "name": "stdout",
          "text": [
            "\u001b[2K     \u001b[90m━━━━━━━━━━━━━━━━━━━━━━━━━━━━━━━━━━━━━━━━\u001b[0m \u001b[32m571.8/571.8 kB\u001b[0m \u001b[31m10.2 MB/s\u001b[0m eta \u001b[36m0:00:00\u001b[0m\n",
            "\u001b[2K     \u001b[90m━━━━━━━━━━━━━━━━━━━━━━━━━━━━━━━━━━━━━━━━\u001b[0m \u001b[32m5.2/5.2 MB\u001b[0m \u001b[31m54.9 MB/s\u001b[0m eta \u001b[36m0:00:00\u001b[0m\n",
            "\u001b[2K     \u001b[90m━━━━━━━━━━━━━━━━━━━━━━━━━━━━━━━━━━━━━━━━\u001b[0m \u001b[32m590.6/590.6 MB\u001b[0m \u001b[31m1.5 MB/s\u001b[0m eta \u001b[36m0:00:00\u001b[0m\n",
            "\u001b[2K     \u001b[90m━━━━━━━━━━━━━━━━━━━━━━━━━━━━━━━━━━━━━━━━\u001b[0m \u001b[32m5.3/5.3 MB\u001b[0m \u001b[31m11.5 MB/s\u001b[0m eta \u001b[36m0:00:00\u001b[0m\n",
            "\u001b[2K     \u001b[90m━━━━━━━━━━━━━━━━━━━━━━━━━━━━━━━━━━━━━━━━\u001b[0m \u001b[32m2.2/2.2 MB\u001b[0m \u001b[31m25.6 MB/s\u001b[0m eta \u001b[36m0:00:00\u001b[0m\n",
            "\u001b[2K     \u001b[90m━━━━━━━━━━━━━━━━━━━━━━━━━━━━━━━━━━━━━━━━\u001b[0m \u001b[32m5.5/5.5 MB\u001b[0m \u001b[31m32.4 MB/s\u001b[0m eta \u001b[36m0:00:00\u001b[0m\n",
            "\u001b[2K     \u001b[90m━━━━━━━━━━━━━━━━━━━━━━━━━━━━━━━━━━━━━━━━\u001b[0m \u001b[32m1.1/1.1 MB\u001b[0m \u001b[31m73.7 MB/s\u001b[0m eta \u001b[36m0:00:00\u001b[0m\n",
            "\u001b[2K     \u001b[90m━━━━━━━━━━━━━━━━━━━━━━━━━━━━━━━━━━━━━━━━\u001b[0m \u001b[32m311.2/311.2 kB\u001b[0m \u001b[31m23.3 MB/s\u001b[0m eta \u001b[36m0:00:00\u001b[0m\n",
            "\u001b[?25h\u001b[31mERROR: pip's dependency resolver does not currently take into account all the packages that are installed. This behaviour is the source of the following dependency conflicts.\n",
            "tf-keras 2.15.1 requires tensorflow<2.16,>=2.15, but you have tensorflow 2.16.2 which is incompatible.\u001b[0m\u001b[31m\n",
            "\u001b[0m"
          ]
        }
      ]
    },
    {
      "cell_type": "code",
      "source": [
        "import pandas as pd\n",
        "df = pd.read_csv('Reddit_Combi.csv',sep=';')\n",
        "df.head()"
      ],
      "metadata": {
        "colab": {
          "base_uri": "https://localhost:8080/",
          "height": 240
        },
        "id": "_UJRLboLHOBP",
        "outputId": "991c7869-4f5d-4150-df3e-c6b48b645274"
      },
      "execution_count": null,
      "outputs": [
        {
          "output_type": "execute_result",
          "data": {
            "text/plain": [
              "                                               title  \\\n",
              "0                     Envy to other is swallowing me   \n",
              "1  Nothin outta the ordinary. Paradise. Job stres...   \n",
              "2  Almost 49 and the chasm of emptiness has never...   \n",
              "3                                    I’m happy again   \n",
              "4  Is it possible to recover from such a traumati...   \n",
              "\n",
              "                                                body  \\\n",
              "0  Im from developingcountry, Indonesia , and for...   \n",
              "1  Um hello ....well many can relate im sure. Aft...   \n",
              "2  I’ve been diagnosed severe bi polar where you ...   \n",
              "3  After my closest friend left me in April, I ha...   \n",
              "4  I am only 15, and yet I feel my life is alread...   \n",
              "\n",
              "                                          Body_Title  label  Unnamed: 4  \n",
              "0  Envy to other is swallowing me Im from develop...      1         NaN  \n",
              "1  Nothin outta the ordinary. Paradise. Job stres...      1         NaN  \n",
              "2  Almost 49 and the chasm of emptiness has never...      1         NaN  \n",
              "3  I’m happy again After my closest friend left m...      0         NaN  \n",
              "4  Is it possible to recover from such a traumati...      1         NaN  "
            ],
            "text/html": [
              "\n",
              "  <div id=\"df-8c978f84-a461-4345-baef-160d5ef9b321\" class=\"colab-df-container\">\n",
              "    <div>\n",
              "<style scoped>\n",
              "    .dataframe tbody tr th:only-of-type {\n",
              "        vertical-align: middle;\n",
              "    }\n",
              "\n",
              "    .dataframe tbody tr th {\n",
              "        vertical-align: top;\n",
              "    }\n",
              "\n",
              "    .dataframe thead th {\n",
              "        text-align: right;\n",
              "    }\n",
              "</style>\n",
              "<table border=\"1\" class=\"dataframe\">\n",
              "  <thead>\n",
              "    <tr style=\"text-align: right;\">\n",
              "      <th></th>\n",
              "      <th>title</th>\n",
              "      <th>body</th>\n",
              "      <th>Body_Title</th>\n",
              "      <th>label</th>\n",
              "      <th>Unnamed: 4</th>\n",
              "    </tr>\n",
              "  </thead>\n",
              "  <tbody>\n",
              "    <tr>\n",
              "      <th>0</th>\n",
              "      <td>Envy to other is swallowing me</td>\n",
              "      <td>Im from developingcountry, Indonesia , and for...</td>\n",
              "      <td>Envy to other is swallowing me Im from develop...</td>\n",
              "      <td>1</td>\n",
              "      <td>NaN</td>\n",
              "    </tr>\n",
              "    <tr>\n",
              "      <th>1</th>\n",
              "      <td>Nothin outta the ordinary. Paradise. Job stres...</td>\n",
              "      <td>Um hello ....well many can relate im sure. Aft...</td>\n",
              "      <td>Nothin outta the ordinary. Paradise. Job stres...</td>\n",
              "      <td>1</td>\n",
              "      <td>NaN</td>\n",
              "    </tr>\n",
              "    <tr>\n",
              "      <th>2</th>\n",
              "      <td>Almost 49 and the chasm of emptiness has never...</td>\n",
              "      <td>I’ve been diagnosed severe bi polar where you ...</td>\n",
              "      <td>Almost 49 and the chasm of emptiness has never...</td>\n",
              "      <td>1</td>\n",
              "      <td>NaN</td>\n",
              "    </tr>\n",
              "    <tr>\n",
              "      <th>3</th>\n",
              "      <td>I’m happy again</td>\n",
              "      <td>After my closest friend left me in April, I ha...</td>\n",
              "      <td>I’m happy again After my closest friend left m...</td>\n",
              "      <td>0</td>\n",
              "      <td>NaN</td>\n",
              "    </tr>\n",
              "    <tr>\n",
              "      <th>4</th>\n",
              "      <td>Is it possible to recover from such a traumati...</td>\n",
              "      <td>I am only 15, and yet I feel my life is alread...</td>\n",
              "      <td>Is it possible to recover from such a traumati...</td>\n",
              "      <td>1</td>\n",
              "      <td>NaN</td>\n",
              "    </tr>\n",
              "  </tbody>\n",
              "</table>\n",
              "</div>\n",
              "    <div class=\"colab-df-buttons\">\n",
              "\n",
              "  <div class=\"colab-df-container\">\n",
              "    <button class=\"colab-df-convert\" onclick=\"convertToInteractive('df-8c978f84-a461-4345-baef-160d5ef9b321')\"\n",
              "            title=\"Convert this dataframe to an interactive table.\"\n",
              "            style=\"display:none;\">\n",
              "\n",
              "  <svg xmlns=\"http://www.w3.org/2000/svg\" height=\"24px\" viewBox=\"0 -960 960 960\">\n",
              "    <path d=\"M120-120v-720h720v720H120Zm60-500h600v-160H180v160Zm220 220h160v-160H400v160Zm0 220h160v-160H400v160ZM180-400h160v-160H180v160Zm440 0h160v-160H620v160ZM180-180h160v-160H180v160Zm440 0h160v-160H620v160Z\"/>\n",
              "  </svg>\n",
              "    </button>\n",
              "\n",
              "  <style>\n",
              "    .colab-df-container {\n",
              "      display:flex;\n",
              "      gap: 12px;\n",
              "    }\n",
              "\n",
              "    .colab-df-convert {\n",
              "      background-color: #E8F0FE;\n",
              "      border: none;\n",
              "      border-radius: 50%;\n",
              "      cursor: pointer;\n",
              "      display: none;\n",
              "      fill: #1967D2;\n",
              "      height: 32px;\n",
              "      padding: 0 0 0 0;\n",
              "      width: 32px;\n",
              "    }\n",
              "\n",
              "    .colab-df-convert:hover {\n",
              "      background-color: #E2EBFA;\n",
              "      box-shadow: 0px 1px 2px rgba(60, 64, 67, 0.3), 0px 1px 3px 1px rgba(60, 64, 67, 0.15);\n",
              "      fill: #174EA6;\n",
              "    }\n",
              "\n",
              "    .colab-df-buttons div {\n",
              "      margin-bottom: 4px;\n",
              "    }\n",
              "\n",
              "    [theme=dark] .colab-df-convert {\n",
              "      background-color: #3B4455;\n",
              "      fill: #D2E3FC;\n",
              "    }\n",
              "\n",
              "    [theme=dark] .colab-df-convert:hover {\n",
              "      background-color: #434B5C;\n",
              "      box-shadow: 0px 1px 3px 1px rgba(0, 0, 0, 0.15);\n",
              "      filter: drop-shadow(0px 1px 2px rgba(0, 0, 0, 0.3));\n",
              "      fill: #FFFFFF;\n",
              "    }\n",
              "  </style>\n",
              "\n",
              "    <script>\n",
              "      const buttonEl =\n",
              "        document.querySelector('#df-8c978f84-a461-4345-baef-160d5ef9b321 button.colab-df-convert');\n",
              "      buttonEl.style.display =\n",
              "        google.colab.kernel.accessAllowed ? 'block' : 'none';\n",
              "\n",
              "      async function convertToInteractive(key) {\n",
              "        const element = document.querySelector('#df-8c978f84-a461-4345-baef-160d5ef9b321');\n",
              "        const dataTable =\n",
              "          await google.colab.kernel.invokeFunction('convertToInteractive',\n",
              "                                                    [key], {});\n",
              "        if (!dataTable) return;\n",
              "\n",
              "        const docLinkHtml = 'Like what you see? Visit the ' +\n",
              "          '<a target=\"_blank\" href=https://colab.research.google.com/notebooks/data_table.ipynb>data table notebook</a>'\n",
              "          + ' to learn more about interactive tables.';\n",
              "        element.innerHTML = '';\n",
              "        dataTable['output_type'] = 'display_data';\n",
              "        await google.colab.output.renderOutput(dataTable, element);\n",
              "        const docLink = document.createElement('div');\n",
              "        docLink.innerHTML = docLinkHtml;\n",
              "        element.appendChild(docLink);\n",
              "      }\n",
              "    </script>\n",
              "  </div>\n",
              "\n",
              "\n",
              "<div id=\"df-eedae90c-3ffd-4d44-a444-02708cd414a9\">\n",
              "  <button class=\"colab-df-quickchart\" onclick=\"quickchart('df-eedae90c-3ffd-4d44-a444-02708cd414a9')\"\n",
              "            title=\"Suggest charts\"\n",
              "            style=\"display:none;\">\n",
              "\n",
              "<svg xmlns=\"http://www.w3.org/2000/svg\" height=\"24px\"viewBox=\"0 0 24 24\"\n",
              "     width=\"24px\">\n",
              "    <g>\n",
              "        <path d=\"M19 3H5c-1.1 0-2 .9-2 2v14c0 1.1.9 2 2 2h14c1.1 0 2-.9 2-2V5c0-1.1-.9-2-2-2zM9 17H7v-7h2v7zm4 0h-2V7h2v10zm4 0h-2v-4h2v4z\"/>\n",
              "    </g>\n",
              "</svg>\n",
              "  </button>\n",
              "\n",
              "<style>\n",
              "  .colab-df-quickchart {\n",
              "      --bg-color: #E8F0FE;\n",
              "      --fill-color: #1967D2;\n",
              "      --hover-bg-color: #E2EBFA;\n",
              "      --hover-fill-color: #174EA6;\n",
              "      --disabled-fill-color: #AAA;\n",
              "      --disabled-bg-color: #DDD;\n",
              "  }\n",
              "\n",
              "  [theme=dark] .colab-df-quickchart {\n",
              "      --bg-color: #3B4455;\n",
              "      --fill-color: #D2E3FC;\n",
              "      --hover-bg-color: #434B5C;\n",
              "      --hover-fill-color: #FFFFFF;\n",
              "      --disabled-bg-color: #3B4455;\n",
              "      --disabled-fill-color: #666;\n",
              "  }\n",
              "\n",
              "  .colab-df-quickchart {\n",
              "    background-color: var(--bg-color);\n",
              "    border: none;\n",
              "    border-radius: 50%;\n",
              "    cursor: pointer;\n",
              "    display: none;\n",
              "    fill: var(--fill-color);\n",
              "    height: 32px;\n",
              "    padding: 0;\n",
              "    width: 32px;\n",
              "  }\n",
              "\n",
              "  .colab-df-quickchart:hover {\n",
              "    background-color: var(--hover-bg-color);\n",
              "    box-shadow: 0 1px 2px rgba(60, 64, 67, 0.3), 0 1px 3px 1px rgba(60, 64, 67, 0.15);\n",
              "    fill: var(--button-hover-fill-color);\n",
              "  }\n",
              "\n",
              "  .colab-df-quickchart-complete:disabled,\n",
              "  .colab-df-quickchart-complete:disabled:hover {\n",
              "    background-color: var(--disabled-bg-color);\n",
              "    fill: var(--disabled-fill-color);\n",
              "    box-shadow: none;\n",
              "  }\n",
              "\n",
              "  .colab-df-spinner {\n",
              "    border: 2px solid var(--fill-color);\n",
              "    border-color: transparent;\n",
              "    border-bottom-color: var(--fill-color);\n",
              "    animation:\n",
              "      spin 1s steps(1) infinite;\n",
              "  }\n",
              "\n",
              "  @keyframes spin {\n",
              "    0% {\n",
              "      border-color: transparent;\n",
              "      border-bottom-color: var(--fill-color);\n",
              "      border-left-color: var(--fill-color);\n",
              "    }\n",
              "    20% {\n",
              "      border-color: transparent;\n",
              "      border-left-color: var(--fill-color);\n",
              "      border-top-color: var(--fill-color);\n",
              "    }\n",
              "    30% {\n",
              "      border-color: transparent;\n",
              "      border-left-color: var(--fill-color);\n",
              "      border-top-color: var(--fill-color);\n",
              "      border-right-color: var(--fill-color);\n",
              "    }\n",
              "    40% {\n",
              "      border-color: transparent;\n",
              "      border-right-color: var(--fill-color);\n",
              "      border-top-color: var(--fill-color);\n",
              "    }\n",
              "    60% {\n",
              "      border-color: transparent;\n",
              "      border-right-color: var(--fill-color);\n",
              "    }\n",
              "    80% {\n",
              "      border-color: transparent;\n",
              "      border-right-color: var(--fill-color);\n",
              "      border-bottom-color: var(--fill-color);\n",
              "    }\n",
              "    90% {\n",
              "      border-color: transparent;\n",
              "      border-bottom-color: var(--fill-color);\n",
              "    }\n",
              "  }\n",
              "</style>\n",
              "\n",
              "  <script>\n",
              "    async function quickchart(key) {\n",
              "      const quickchartButtonEl =\n",
              "        document.querySelector('#' + key + ' button');\n",
              "      quickchartButtonEl.disabled = true;  // To prevent multiple clicks.\n",
              "      quickchartButtonEl.classList.add('colab-df-spinner');\n",
              "      try {\n",
              "        const charts = await google.colab.kernel.invokeFunction(\n",
              "            'suggestCharts', [key], {});\n",
              "      } catch (error) {\n",
              "        console.error('Error during call to suggestCharts:', error);\n",
              "      }\n",
              "      quickchartButtonEl.classList.remove('colab-df-spinner');\n",
              "      quickchartButtonEl.classList.add('colab-df-quickchart-complete');\n",
              "    }\n",
              "    (() => {\n",
              "      let quickchartButtonEl =\n",
              "        document.querySelector('#df-eedae90c-3ffd-4d44-a444-02708cd414a9 button');\n",
              "      quickchartButtonEl.style.display =\n",
              "        google.colab.kernel.accessAllowed ? 'block' : 'none';\n",
              "    })();\n",
              "  </script>\n",
              "</div>\n",
              "\n",
              "    </div>\n",
              "  </div>\n"
            ],
            "application/vnd.google.colaboratory.intrinsic+json": {
              "type": "dataframe",
              "variable_name": "df",
              "summary": "{\n  \"name\": \"df\",\n  \"rows\": 3123,\n  \"fields\": [\n    {\n      \"column\": \"title\",\n      \"properties\": {\n        \"dtype\": \"string\",\n        \"num_unique_values\": 3098,\n        \"samples\": [\n          \"It's lonely.\",\n          \"Does anyone else feel CONSTANTLY stressed?\",\n          \"Sleeping is better than being awake.\"\n        ],\n        \"semantic_type\": \"\",\n        \"description\": \"\"\n      }\n    },\n    {\n      \"column\": \"body\",\n      \"properties\": {\n        \"dtype\": \"string\",\n        \"num_unique_values\": 3109,\n        \"samples\": [\n          \"when someone asks me how i'm doing....i'm really..barely hanging on..light enough to float on the river under the night sky but heavy enough to be sunk if a feather lands on me...\",\n          \"So, I have no idea where to start. First of all I want to apologize for possible grammatical mistakes or typos since english is not my mother tongue. University is stressing me out lately. I know bohoo university is stressful. My ADD doesn't make it easier though. I am far behind with any exercise and I am running out of days. I really try my best but for any reason anyone else is way faster in handling this amount of exercises. I feel like a dumb peace of shit because I can't even handle an art bachelor degree course. I have no energy lately. Everything's overwhelming me. I feel like I am constantly on the edge of breaking down in tears. My boyfriend is sick, that's why I have to do most of the housework. Because of his illness he'll go in rehab in a bit more than a week. Idk I am just, overwhelmed by life I guess. And I wish there was someone who could just take away half of the excersises I have to do. I want to stop the time for a month, for rehabilitation. And then for another so I can catch up with all these excersises. Thank you for reading so far, I really appreciate that. I hope I didn't bore you. Please be nice if you decide to comment. Thank you\",\n          \"Do people ever experience this? It\\u2019s like, you almost want to be depressed, because for some reason it gives you a twisted sense of security. Your brain just wants to stay in that bad place and it takes too much energy to get out\\u2026\"\n        ],\n        \"semantic_type\": \"\",\n        \"description\": \"\"\n      }\n    },\n    {\n      \"column\": \"Body_Title\",\n      \"properties\": {\n        \"dtype\": \"string\",\n        \"num_unique_values\": 3123,\n        \"samples\": [\n          \"Is there a light at the end of the tunnel? I\\u2019ve been battling with chronic stress for about 3 weeks now. I want to say the cause of it is my job. It\\u2019s the only thing that makes sense. Due to the pandemic, I\\u2019ve had 4 different positions within the past 3 months. My regular position that I held before this all this happened was awesome. I actually loved my job and looked forward to work each morning. When everything shut down back in March, until about the middle of May, I was moved to two other positions that we still pretty relaxed, the hours just kind of sucked. But now this new role that I\\u2019ve been in for about a month is killing me. It\\u2019s very stressful, the days are long, it seems like a constant race against the clock, the people I deal with can be a pain which adds more stress. I keep telling myself it\\u2019s only temporary and hopefully I\\u2019ll be able to get my old job as things start to normalize more. But for the past 3 weeks my symptoms have included Weighted chest (most prominent symptom) Lightheadedness/Dizziness Tightness in neck and shoulders Lower back pain Anxiety that won\\u2019t go away Rapid heartbeat Acid reflux/heartburn Stomach issues Fatigue I have tired to change my diet to start eating a bit healthier. I\\u2019ve also been trying breathing exercises and doing stretching in the evenings when I get home from work. It seems to help a little. I also plan on getting back to the gym, because I know exercise will help out as well. I\\u2019m just wondering if this is something that will eventually go away or am I in it for the long haul? I\\u2019ve felt this way once before, about a month before my daughter was born. But it completely went away right after she was born. Not kidding. Maybe big life changes are my trigger? But I didn\\u2019t feel this way when I got married or bought a house or anything like that. Any insight or advice to manage this is greatly appreciated!!\",\n          \"We only see those who get better Aka survivorship bias. We hear the stories of the people whose mental illness got better, but there\\u2019s little acknowledgement of those who have only gone downhill. I\\u2019m tired of hearing \\u201cIt will get better, just look at what happened to me!\\u201d Because it hasn\\u2019t. Why should I continue suffering for the lofty hope that my depression will ease up? I call it as I see it. If my mental state has deteriorated, even after years of treatment, then I probably won\\u2019t end up as a survivor.\",\n          \"I miss the old me I\\u2019ve forgotten what genuine and pure happiness actually feels like. I\\u2019ve forgotten what it\\u2019s like to actually have a passion for life. These last few months have been a blur, I can only really recall a few days in detail. I miss the old me, she had so much potential. She had so many friends, she could actually read a book without being overwhelmed, she looked healthy and prettier. Now I can\\u2019t even move out of bed. I just lie there waiting for someone to text me, but it rarely happens now because either people hate me now or I\\u2019ve pushed them away. I don\\u2019t even have the energy to pull out my laptop and watch Netflix now. My housemates don\\u2019t even notice when I don\\u2019t leave my room for a week. Even my mother said this depression is making her life a misery. I used to be so full of life, but that seems like an eternity away, such a distant memory now. It feels like I have no one now and I have no energy to even move, let alone do anything slightly productive. Every single thing overwhelms me-the cat wouldn\\u2019t eat the food I gave him today because he\\u2019s so fussy and I just burst into tears. I\\u2019m so tired. I want out. Everything used to be so different. EDIT I never expected this post to blow up so much and I\\u2019m overwhelmed by the response rate and kind messages. I\\u2019m a bit too overwhelmed to reply just yet, but I will soon, know I\\u2019m appreciative of every single pm and comment. Thank you for making me feel less alone, this website is very special\"\n        ],\n        \"semantic_type\": \"\",\n        \"description\": \"\"\n      }\n    },\n    {\n      \"column\": \"label\",\n      \"properties\": {\n        \"dtype\": \"number\",\n        \"std\": 0,\n        \"min\": 0,\n        \"max\": 1,\n        \"num_unique_values\": 2,\n        \"samples\": [\n          0,\n          1\n        ],\n        \"semantic_type\": \"\",\n        \"description\": \"\"\n      }\n    },\n    {\n      \"column\": \"Unnamed: 4\",\n      \"properties\": {\n        \"dtype\": \"number\",\n        \"std\": null,\n        \"min\": null,\n        \"max\": null,\n        \"num_unique_values\": 0,\n        \"samples\": [],\n        \"semantic_type\": \"\",\n        \"description\": \"\"\n      }\n    }\n  ]\n}"
            }
          },
          "metadata": {},
          "execution_count": 2
        }
      ]
    },
    {
      "cell_type": "code",
      "source": [
        "df.shape"
      ],
      "metadata": {
        "colab": {
          "base_uri": "https://localhost:8080/"
        },
        "id": "IoLgNbxrK8sA",
        "outputId": "5514d020-b307-4a90-eea5-7e34b1adc6c4"
      },
      "execution_count": null,
      "outputs": [
        {
          "output_type": "execute_result",
          "data": {
            "text/plain": [
              "(3123, 5)"
            ]
          },
          "metadata": {},
          "execution_count": 3
        }
      ]
    },
    {
      "cell_type": "code",
      "source": [
        "text = df.Body_Title\n",
        "labels = df.label"
      ],
      "metadata": {
        "id": "GupVi8kvILsh"
      },
      "execution_count": null,
      "outputs": []
    },
    {
      "cell_type": "code",
      "source": [
        "len(df.value_counts(df.label))"
      ],
      "metadata": {
        "colab": {
          "base_uri": "https://localhost:8080/"
        },
        "id": "0WahsWimVc5J",
        "outputId": "67d066c8-6e45-4c04-b39b-1dfa347b3106"
      },
      "execution_count": null,
      "outputs": [
        {
          "output_type": "execute_result",
          "data": {
            "text/plain": [
              "2"
            ]
          },
          "metadata": {},
          "execution_count": 5
        }
      ]
    },
    {
      "cell_type": "code",
      "source": [
        "from sklearn.model_selection import train_test_split\n",
        "X_train, X_test, y_train, y_test = train_test_split(\n",
        "    text, labels, test_size=0.33, random_state=42)"
      ],
      "metadata": {
        "id": "gRXM1cExQiqO"
      },
      "execution_count": null,
      "outputs": []
    },
    {
      "cell_type": "code",
      "source": [
        "X_train"
      ],
      "metadata": {
        "colab": {
          "base_uri": "https://localhost:8080/"
        },
        "id": "UiGcwFxtQsrN",
        "outputId": "c75e2268-bf72-43e5-fc3d-e31c45c5da44"
      },
      "execution_count": null,
      "outputs": [
        {
          "output_type": "execute_result",
          "data": {
            "text/plain": [
              "3037    What is stress keeping you from? What is the b...\n",
              "2859    does anyone else have a constant feeling of no...\n",
              "3107    I feel like I’m getting dumber and dumber ever...\n",
              "1613    Sleeping is better than being awake. Feeling n...\n",
              "440     Not Sure What To Do So a little background. Fi...\n",
              "                              ...                        \n",
              "3092    My Plan B is suicide I have big plans, that I ...\n",
              "1095    I stay up late at night because I know the soo...\n",
              "1130    Up late stressing about getting let go from a ...\n",
              "1294    I survived my suicide attempt.. Yesterday I ha...\n",
              "860     I don't know how to word myself right and I'm ...\n",
              "Name: Body_Title, Length: 2092, dtype: object"
            ]
          },
          "metadata": {},
          "execution_count": 7
        }
      ]
    },
    {
      "cell_type": "code",
      "source": [
        "import keras_nlp\n",
        "classifier = keras_nlp.models.RobertaClassifier.from_preset(\n",
        "    \"roberta_base_en\",\n",
        "    num_classes=2,\n",
        ")"
      ],
      "metadata": {
        "id": "bXZdZYs6I9Z_",
        "colab": {
          "base_uri": "https://localhost:8080/"
        },
        "outputId": "3dd58b46-e037-458d-f572-766a24784724"
      },
      "execution_count": null,
      "outputs": [
        {
          "output_type": "stream",
          "name": "stderr",
          "text": [
            "Downloading from https://www.kaggle.com/api/v1/models/keras/roberta/keras/roberta_base_en/2/download/model.safetensors...\n",
            "Downloading from https://www.kaggle.com/api/v1/models/keras/roberta/keras/roberta_base_en/2/download/model.safetensors.index.json...\n",
            "Downloading from https://www.kaggle.com/api/v1/models/keras/roberta/keras/roberta_base_en/2/download/metadata.json...\n",
            "100%|██████████| 141/141 [00:00<00:00, 148kB/s]\n",
            "Downloading from https://www.kaggle.com/api/v1/models/keras/roberta/keras/roberta_base_en/2/download/task.json...\n",
            "Downloading from https://www.kaggle.com/api/v1/models/keras/roberta/keras/roberta_base_en/2/download/config.json...\n",
            "100%|██████████| 498/498 [00:00<00:00, 321kB/s]\n",
            "Downloading from https://www.kaggle.com/api/v1/models/keras/roberta/keras/roberta_base_en/2/download/model.safetensors...\n",
            "Downloading from https://www.kaggle.com/api/v1/models/keras/roberta/keras/roberta_base_en/2/download/model.safetensors.index.json...\n",
            "Downloading from https://www.kaggle.com/api/v1/models/keras/roberta/keras/roberta_base_en/2/download/model.weights.h5...\n",
            "100%|██████████| 474M/474M [00:31<00:00, 15.6MB/s]\n",
            "Downloading from https://www.kaggle.com/api/v1/models/keras/roberta/keras/roberta_base_en/2/download/model.safetensors...\n",
            "Downloading from https://www.kaggle.com/api/v1/models/keras/roberta/keras/roberta_base_en/2/download/model.safetensors.index.json...\n",
            "Downloading from https://www.kaggle.com/api/v1/models/keras/roberta/keras/roberta_base_en/2/download/preprocessor.json...\n",
            "Downloading from https://www.kaggle.com/api/v1/models/keras/roberta/keras/roberta_base_en/2/download/tokenizer.json...\n",
            "100%|██████████| 463/463 [00:00<00:00, 288kB/s]\n",
            "Downloading from https://www.kaggle.com/api/v1/models/keras/roberta/keras/roberta_base_en/2/download/assets/tokenizer/vocabulary.json...\n",
            "100%|██████████| 0.99M/0.99M [00:01<00:00, 798kB/s]\n",
            "Downloading from https://www.kaggle.com/api/v1/models/keras/roberta/keras/roberta_base_en/2/download/assets/tokenizer/merges.txt...\n",
            "100%|██████████| 446k/446k [00:01<00:00, 451kB/s]\n"
          ]
        }
      ]
    },
    {
      "cell_type": "code",
      "source": [
        "classifier.fit(x=X_train.values, y=y_train, batch_size=8, verbose=1)"
      ],
      "metadata": {
        "colab": {
          "base_uri": "https://localhost:8080/"
        },
        "id": "RuWKcqr1HUNE",
        "outputId": "8e8a45b7-1c8a-4a44-c939-2e0e78724d07"
      },
      "execution_count": null,
      "outputs": [
        {
          "output_type": "stream",
          "name": "stdout",
          "text": [
            "\u001b[1m262/262\u001b[0m \u001b[32m━━━━━━━━━━━━━━━━━━━━\u001b[0m\u001b[37m\u001b[0m \u001b[1m543s\u001b[0m 1s/step - loss: 0.3370 - sparse_categorical_accuracy: 0.8689\n"
          ]
        },
        {
          "output_type": "execute_result",
          "data": {
            "text/plain": [
              "<keras.src.callbacks.history.History at 0x7b47dc5c8dc0>"
            ]
          },
          "metadata": {},
          "execution_count": 9
        }
      ]
    },
    {
      "cell_type": "code",
      "source": [
        "pred = classifier.predict([X_test.values[0]])"
      ],
      "metadata": {
        "colab": {
          "base_uri": "https://localhost:8080/"
        },
        "id": "sv_Frv07IiMT",
        "outputId": "2a68e43e-7014-4a5f-ae64-3404c5981078"
      },
      "execution_count": null,
      "outputs": [
        {
          "output_type": "stream",
          "name": "stdout",
          "text": [
            "\u001b[1m1/1\u001b[0m \u001b[32m━━━━━━━━━━━━━━━━━━━━\u001b[0m\u001b[37m\u001b[0m \u001b[1m16s\u001b[0m 16s/step\n"
          ]
        }
      ]
    },
    {
      "cell_type": "code",
      "source": [
        "import numpy as np\n",
        "print(X_test.values[0])\n",
        "np.argmax(pred[0],0)"
      ],
      "metadata": {
        "colab": {
          "base_uri": "https://localhost:8080/"
        },
        "id": "O7aVS_AYLAf3",
        "outputId": "e63369f8-676a-4aea-e43e-79dffaba54e3"
      },
      "execution_count": null,
      "outputs": [
        {
          "output_type": "stream",
          "name": "stdout",
          "text": [
            "Is there a light at the end of the tunnel? I’ve been battling with chronic stress for about 3 weeks now. I want to say the cause of it is my job. It’s the only thing that makes sense. Due to the pandemic, I’ve had 4 different positions within the past 3 months. My regular position that I held before this all this happened was awesome. I actually loved my job and looked forward to work each morning. When everything shut down back in March, until about the middle of May, I was moved to two other positions that we still pretty relaxed, the hours just kind of sucked. But now this new role that I’ve been in for about a month is killing me. It’s very stressful, the days are long, it seems like a constant race against the clock, the people I deal with can be a pain which adds more stress. I keep telling myself it’s only temporary and hopefully I’ll be able to get my old job as things start to normalize more. But for the past 3 weeks my symptoms have included Weighted chest (most prominent symptom) Lightheadedness/Dizziness Tightness in neck and shoulders Lower back pain Anxiety that won’t go away Rapid heartbeat Acid reflux/heartburn Stomach issues Fatigue I have tired to change my diet to start eating a bit healthier. I’ve also been trying breathing exercises and doing stretching in the evenings when I get home from work. It seems to help a little. I also plan on getting back to the gym, because I know exercise will help out as well. I’m just wondering if this is something that will eventually go away or am I in it for the long haul? I’ve felt this way once before, about a month before my daughter was born. But it completely went away right after she was born. Not kidding. Maybe big life changes are my trigger? But I didn’t feel this way when I got married or bought a house or anything like that. Any insight or advice to manage this is greatly appreciated!!\n"
          ]
        },
        {
          "output_type": "execute_result",
          "data": {
            "text/plain": [
              "1"
            ]
          },
          "metadata": {},
          "execution_count": 11
        }
      ]
    },
    {
      "cell_type": "code",
      "source": [],
      "metadata": {
        "id": "mOMEQk4AUn-t"
      },
      "execution_count": null,
      "outputs": []
    }
  ]
}

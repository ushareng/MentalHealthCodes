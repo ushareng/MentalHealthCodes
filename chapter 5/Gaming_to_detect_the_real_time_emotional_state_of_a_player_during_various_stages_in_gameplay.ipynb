{
  "nbformat": 4,
  "nbformat_minor": 0,
  "metadata": {
    "colab": {
      "provenance": [],
      "gpuType": "T4"
    },
    "kernelspec": {
      "name": "python3",
      "display_name": "Python 3"
    },
    "language_info": {
      "name": "python"
    },
    "accelerator": "GPU"
  },
  "cells": [
    {
      "cell_type": "markdown",
      "source": [
        "Gaming is very common nowadays amon youngsters. This part aims to detect the emotional state of the people during gaming. We make use of the popular gaming stimulation dataset AGAIN affect gaming annotation dataset- data. This data contains realtime annotation of gamers and their arousal levels.\n",
        "\n",
        "\n",
        "\n",
        "\n",
        "First we begin by loading the data and separating it into categorical and continuous features. Categorical feature are those which have classes or which are quantised whereas continuous features are not quantised as the name suggests. We convert the categorical features to integers using the labelencoder from sklearn. Finally, we use the popular TabNet model to perform regression. TabNet is one of the most widely used and a highly accurate model for both tabular classification and regression. In the end we also plot out the explanation masks from the trained model.\n"
      ],
      "metadata": {
        "id": "msfV6rEwvryS"
      }
    },
    {
      "cell_type": "code",
      "source": [
        "!gdown --id 1WOI30_JwR-DjB04-5YA4jte38d3ugmB2"
      ],
      "metadata": {
        "colab": {
          "base_uri": "https://localhost:8080/"
        },
        "id": "i46zohR3Z37G",
        "outputId": "b80e69fd-bdc1-477f-eba2-a0ffa7fea198"
      },
      "execution_count": null,
      "outputs": [
        {
          "output_type": "stream",
          "name": "stdout",
          "text": [
            "/usr/local/lib/python3.10/dist-packages/gdown/__main__.py:132: FutureWarning: Option `--id` was deprecated in version 4.3.1 and will be removed in 5.0. You don't need to pass it anymore to use a file ID.\n",
            "  warnings.warn(\n",
            "Downloading...\n",
            "From (original): https://drive.google.com/uc?id=1WOI30_JwR-DjB04-5YA4jte38d3ugmB2\n",
            "From (redirected): https://drive.google.com/uc?id=1WOI30_JwR-DjB04-5YA4jte38d3ugmB2&confirm=t&uuid=f741faa7-511b-41a5-9057-276d9deed43a\n",
            "To: /content/clean_data.csv\n",
            "100% 263M/263M [00:06<00:00, 40.0MB/s]\n"
          ]
        }
      ]
    },
    {
      "cell_type": "code",
      "source": [
        "import pandas as pd\n",
        "df = pd.read_csv('clean_data.csv')\n",
        "df.head()"
      ],
      "metadata": {
        "colab": {
          "base_uri": "https://localhost:8080/",
          "height": 463
        },
        "id": "0PjK1JzvajyL",
        "outputId": "42ef89f0-d77d-47e5-9768-76b290824de9"
      },
      "execution_count": null,
      "outputs": [
        {
          "output_type": "stream",
          "name": "stderr",
          "text": [
            "<ipython-input-2-f81d74a3c002>:2: DtypeWarning: Columns (23,24,98,99,100) have mixed types. Specify dtype option on import or set low_memory=False.\n",
            "  df = pd.read_csv('clean_data.csv')\n"
          ]
        },
        {
          "output_type": "execute_result",
          "data": {
            "text/plain": [
              "  [control]genre                    [control]player_id  \\\n",
              "0     Platformer  018B0D8D-B5EC-09D6-90ED-550058EBFEAF   \n",
              "1     Platformer  018B0D8D-B5EC-09D6-90ED-550058EBFEAF   \n",
              "2     Platformer  018B0D8D-B5EC-09D6-90ED-550058EBFEAF   \n",
              "3     Platformer  018B0D8D-B5EC-09D6-90ED-550058EBFEAF   \n",
              "4     Platformer  018B0D8D-B5EC-09D6-90ED-550058EBFEAF   \n",
              "\n",
              "                    [control]session_id [control]game     [control]time_index  \\\n",
              "0  F00C622C-374A-4F8D-65A0-CFBDA1922336       Endless         0 days 00:00:00   \n",
              "1  F00C622C-374A-4F8D-65A0-CFBDA1922336       Endless  0 days 00:00:00.250000   \n",
              "2  F00C622C-374A-4F8D-65A0-CFBDA1922336       Endless  0 days 00:00:00.500000   \n",
              "3  F00C622C-374A-4F8D-65A0-CFBDA1922336       Endless  0 days 00:00:00.750000   \n",
              "4  F00C622C-374A-4F8D-65A0-CFBDA1922336       Endless         0 days 00:00:01   \n",
              "\n",
              "   [control]epoch  [control]time_stamp  [control]engine_tick  [output]arousal  \\\n",
              "0    1.589291e+12               0.0000                    39         0.214286   \n",
              "1    1.589291e+12               0.2524                    39         0.214286   \n",
              "2    1.589291e+12               0.5052                    39         0.214286   \n",
              "3    1.589291e+12               0.7572                    39         0.214286   \n",
              "4    1.589291e+12               1.0123                    39         0.214286   \n",
              "\n",
              "   [general]time_passed  ...  player_slow_pickup  player_has_powerup  \\\n",
              "0              0.000000  ...                 0.0                 0.0   \n",
              "1              0.002056  ...                 0.0                 0.0   \n",
              "2              0.004115  ...                 0.0                 0.0   \n",
              "3              0.006167  ...                 0.0                 0.0   \n",
              "4              0.008245  ...                 0.0                 0.0   \n",
              "\n",
              "   bot_has_collisions  bot_is_colliding_above  bot_is_colliding_below  \\\n",
              "0                 0.0                     0.0                     0.0   \n",
              "1                 0.0                     0.0                     0.0   \n",
              "2                 0.0                     0.0                     0.0   \n",
              "3                 0.0                     0.0                     0.0   \n",
              "4                 0.0                     0.0                     0.0   \n",
              "\n",
              "   bot_is_colliding_left  bot_is_colliding_right  bot_is_falling  \\\n",
              "0                    0.0                     0.0             0.0   \n",
              "1                    0.0                     0.0             0.0   \n",
              "2                    0.0                     0.0             0.0   \n",
              "3                    0.0                     0.0             0.0   \n",
              "4                    0.0                     0.0             0.0   \n",
              "\n",
              "   bot_is_jumping  bot_charging  \n",
              "0             0.0           0.0  \n",
              "1             0.0           0.0  \n",
              "2             0.0           0.0  \n",
              "3             0.0           0.0  \n",
              "4             0.0           0.0  \n",
              "\n",
              "[5 rows x 121 columns]"
            ],
            "text/html": [
              "\n",
              "  <div id=\"df-d5ff4774-61a1-4a11-9cda-d514d07ecfc9\" class=\"colab-df-container\">\n",
              "    <div>\n",
              "<style scoped>\n",
              "    .dataframe tbody tr th:only-of-type {\n",
              "        vertical-align: middle;\n",
              "    }\n",
              "\n",
              "    .dataframe tbody tr th {\n",
              "        vertical-align: top;\n",
              "    }\n",
              "\n",
              "    .dataframe thead th {\n",
              "        text-align: right;\n",
              "    }\n",
              "</style>\n",
              "<table border=\"1\" class=\"dataframe\">\n",
              "  <thead>\n",
              "    <tr style=\"text-align: right;\">\n",
              "      <th></th>\n",
              "      <th>[control]genre</th>\n",
              "      <th>[control]player_id</th>\n",
              "      <th>[control]session_id</th>\n",
              "      <th>[control]game</th>\n",
              "      <th>[control]time_index</th>\n",
              "      <th>[control]epoch</th>\n",
              "      <th>[control]time_stamp</th>\n",
              "      <th>[control]engine_tick</th>\n",
              "      <th>[output]arousal</th>\n",
              "      <th>[general]time_passed</th>\n",
              "      <th>...</th>\n",
              "      <th>player_slow_pickup</th>\n",
              "      <th>player_has_powerup</th>\n",
              "      <th>bot_has_collisions</th>\n",
              "      <th>bot_is_colliding_above</th>\n",
              "      <th>bot_is_colliding_below</th>\n",
              "      <th>bot_is_colliding_left</th>\n",
              "      <th>bot_is_colliding_right</th>\n",
              "      <th>bot_is_falling</th>\n",
              "      <th>bot_is_jumping</th>\n",
              "      <th>bot_charging</th>\n",
              "    </tr>\n",
              "  </thead>\n",
              "  <tbody>\n",
              "    <tr>\n",
              "      <th>0</th>\n",
              "      <td>Platformer</td>\n",
              "      <td>018B0D8D-B5EC-09D6-90ED-550058EBFEAF</td>\n",
              "      <td>F00C622C-374A-4F8D-65A0-CFBDA1922336</td>\n",
              "      <td>Endless</td>\n",
              "      <td>0 days 00:00:00</td>\n",
              "      <td>1.589291e+12</td>\n",
              "      <td>0.0000</td>\n",
              "      <td>39</td>\n",
              "      <td>0.214286</td>\n",
              "      <td>0.000000</td>\n",
              "      <td>...</td>\n",
              "      <td>0.0</td>\n",
              "      <td>0.0</td>\n",
              "      <td>0.0</td>\n",
              "      <td>0.0</td>\n",
              "      <td>0.0</td>\n",
              "      <td>0.0</td>\n",
              "      <td>0.0</td>\n",
              "      <td>0.0</td>\n",
              "      <td>0.0</td>\n",
              "      <td>0.0</td>\n",
              "    </tr>\n",
              "    <tr>\n",
              "      <th>1</th>\n",
              "      <td>Platformer</td>\n",
              "      <td>018B0D8D-B5EC-09D6-90ED-550058EBFEAF</td>\n",
              "      <td>F00C622C-374A-4F8D-65A0-CFBDA1922336</td>\n",
              "      <td>Endless</td>\n",
              "      <td>0 days 00:00:00.250000</td>\n",
              "      <td>1.589291e+12</td>\n",
              "      <td>0.2524</td>\n",
              "      <td>39</td>\n",
              "      <td>0.214286</td>\n",
              "      <td>0.002056</td>\n",
              "      <td>...</td>\n",
              "      <td>0.0</td>\n",
              "      <td>0.0</td>\n",
              "      <td>0.0</td>\n",
              "      <td>0.0</td>\n",
              "      <td>0.0</td>\n",
              "      <td>0.0</td>\n",
              "      <td>0.0</td>\n",
              "      <td>0.0</td>\n",
              "      <td>0.0</td>\n",
              "      <td>0.0</td>\n",
              "    </tr>\n",
              "    <tr>\n",
              "      <th>2</th>\n",
              "      <td>Platformer</td>\n",
              "      <td>018B0D8D-B5EC-09D6-90ED-550058EBFEAF</td>\n",
              "      <td>F00C622C-374A-4F8D-65A0-CFBDA1922336</td>\n",
              "      <td>Endless</td>\n",
              "      <td>0 days 00:00:00.500000</td>\n",
              "      <td>1.589291e+12</td>\n",
              "      <td>0.5052</td>\n",
              "      <td>39</td>\n",
              "      <td>0.214286</td>\n",
              "      <td>0.004115</td>\n",
              "      <td>...</td>\n",
              "      <td>0.0</td>\n",
              "      <td>0.0</td>\n",
              "      <td>0.0</td>\n",
              "      <td>0.0</td>\n",
              "      <td>0.0</td>\n",
              "      <td>0.0</td>\n",
              "      <td>0.0</td>\n",
              "      <td>0.0</td>\n",
              "      <td>0.0</td>\n",
              "      <td>0.0</td>\n",
              "    </tr>\n",
              "    <tr>\n",
              "      <th>3</th>\n",
              "      <td>Platformer</td>\n",
              "      <td>018B0D8D-B5EC-09D6-90ED-550058EBFEAF</td>\n",
              "      <td>F00C622C-374A-4F8D-65A0-CFBDA1922336</td>\n",
              "      <td>Endless</td>\n",
              "      <td>0 days 00:00:00.750000</td>\n",
              "      <td>1.589291e+12</td>\n",
              "      <td>0.7572</td>\n",
              "      <td>39</td>\n",
              "      <td>0.214286</td>\n",
              "      <td>0.006167</td>\n",
              "      <td>...</td>\n",
              "      <td>0.0</td>\n",
              "      <td>0.0</td>\n",
              "      <td>0.0</td>\n",
              "      <td>0.0</td>\n",
              "      <td>0.0</td>\n",
              "      <td>0.0</td>\n",
              "      <td>0.0</td>\n",
              "      <td>0.0</td>\n",
              "      <td>0.0</td>\n",
              "      <td>0.0</td>\n",
              "    </tr>\n",
              "    <tr>\n",
              "      <th>4</th>\n",
              "      <td>Platformer</td>\n",
              "      <td>018B0D8D-B5EC-09D6-90ED-550058EBFEAF</td>\n",
              "      <td>F00C622C-374A-4F8D-65A0-CFBDA1922336</td>\n",
              "      <td>Endless</td>\n",
              "      <td>0 days 00:00:01</td>\n",
              "      <td>1.589291e+12</td>\n",
              "      <td>1.0123</td>\n",
              "      <td>39</td>\n",
              "      <td>0.214286</td>\n",
              "      <td>0.008245</td>\n",
              "      <td>...</td>\n",
              "      <td>0.0</td>\n",
              "      <td>0.0</td>\n",
              "      <td>0.0</td>\n",
              "      <td>0.0</td>\n",
              "      <td>0.0</td>\n",
              "      <td>0.0</td>\n",
              "      <td>0.0</td>\n",
              "      <td>0.0</td>\n",
              "      <td>0.0</td>\n",
              "      <td>0.0</td>\n",
              "    </tr>\n",
              "  </tbody>\n",
              "</table>\n",
              "<p>5 rows × 121 columns</p>\n",
              "</div>\n",
              "    <div class=\"colab-df-buttons\">\n",
              "\n",
              "  <div class=\"colab-df-container\">\n",
              "    <button class=\"colab-df-convert\" onclick=\"convertToInteractive('df-d5ff4774-61a1-4a11-9cda-d514d07ecfc9')\"\n",
              "            title=\"Convert this dataframe to an interactive table.\"\n",
              "            style=\"display:none;\">\n",
              "\n",
              "  <svg xmlns=\"http://www.w3.org/2000/svg\" height=\"24px\" viewBox=\"0 -960 960 960\">\n",
              "    <path d=\"M120-120v-720h720v720H120Zm60-500h600v-160H180v160Zm220 220h160v-160H400v160Zm0 220h160v-160H400v160ZM180-400h160v-160H180v160Zm440 0h160v-160H620v160ZM180-180h160v-160H180v160Zm440 0h160v-160H620v160Z\"/>\n",
              "  </svg>\n",
              "    </button>\n",
              "\n",
              "  <style>\n",
              "    .colab-df-container {\n",
              "      display:flex;\n",
              "      gap: 12px;\n",
              "    }\n",
              "\n",
              "    .colab-df-convert {\n",
              "      background-color: #E8F0FE;\n",
              "      border: none;\n",
              "      border-radius: 50%;\n",
              "      cursor: pointer;\n",
              "      display: none;\n",
              "      fill: #1967D2;\n",
              "      height: 32px;\n",
              "      padding: 0 0 0 0;\n",
              "      width: 32px;\n",
              "    }\n",
              "\n",
              "    .colab-df-convert:hover {\n",
              "      background-color: #E2EBFA;\n",
              "      box-shadow: 0px 1px 2px rgba(60, 64, 67, 0.3), 0px 1px 3px 1px rgba(60, 64, 67, 0.15);\n",
              "      fill: #174EA6;\n",
              "    }\n",
              "\n",
              "    .colab-df-buttons div {\n",
              "      margin-bottom: 4px;\n",
              "    }\n",
              "\n",
              "    [theme=dark] .colab-df-convert {\n",
              "      background-color: #3B4455;\n",
              "      fill: #D2E3FC;\n",
              "    }\n",
              "\n",
              "    [theme=dark] .colab-df-convert:hover {\n",
              "      background-color: #434B5C;\n",
              "      box-shadow: 0px 1px 3px 1px rgba(0, 0, 0, 0.15);\n",
              "      filter: drop-shadow(0px 1px 2px rgba(0, 0, 0, 0.3));\n",
              "      fill: #FFFFFF;\n",
              "    }\n",
              "  </style>\n",
              "\n",
              "    <script>\n",
              "      const buttonEl =\n",
              "        document.querySelector('#df-d5ff4774-61a1-4a11-9cda-d514d07ecfc9 button.colab-df-convert');\n",
              "      buttonEl.style.display =\n",
              "        google.colab.kernel.accessAllowed ? 'block' : 'none';\n",
              "\n",
              "      async function convertToInteractive(key) {\n",
              "        const element = document.querySelector('#df-d5ff4774-61a1-4a11-9cda-d514d07ecfc9');\n",
              "        const dataTable =\n",
              "          await google.colab.kernel.invokeFunction('convertToInteractive',\n",
              "                                                    [key], {});\n",
              "        if (!dataTable) return;\n",
              "\n",
              "        const docLinkHtml = 'Like what you see? Visit the ' +\n",
              "          '<a target=\"_blank\" href=https://colab.research.google.com/notebooks/data_table.ipynb>data table notebook</a>'\n",
              "          + ' to learn more about interactive tables.';\n",
              "        element.innerHTML = '';\n",
              "        dataTable['output_type'] = 'display_data';\n",
              "        await google.colab.output.renderOutput(dataTable, element);\n",
              "        const docLink = document.createElement('div');\n",
              "        docLink.innerHTML = docLinkHtml;\n",
              "        element.appendChild(docLink);\n",
              "      }\n",
              "    </script>\n",
              "  </div>\n",
              "\n",
              "\n",
              "<div id=\"df-68f48249-4d28-44b0-830d-ecac0a4b3e04\">\n",
              "  <button class=\"colab-df-quickchart\" onclick=\"quickchart('df-68f48249-4d28-44b0-830d-ecac0a4b3e04')\"\n",
              "            title=\"Suggest charts\"\n",
              "            style=\"display:none;\">\n",
              "\n",
              "<svg xmlns=\"http://www.w3.org/2000/svg\" height=\"24px\"viewBox=\"0 0 24 24\"\n",
              "     width=\"24px\">\n",
              "    <g>\n",
              "        <path d=\"M19 3H5c-1.1 0-2 .9-2 2v14c0 1.1.9 2 2 2h14c1.1 0 2-.9 2-2V5c0-1.1-.9-2-2-2zM9 17H7v-7h2v7zm4 0h-2V7h2v10zm4 0h-2v-4h2v4z\"/>\n",
              "    </g>\n",
              "</svg>\n",
              "  </button>\n",
              "\n",
              "<style>\n",
              "  .colab-df-quickchart {\n",
              "      --bg-color: #E8F0FE;\n",
              "      --fill-color: #1967D2;\n",
              "      --hover-bg-color: #E2EBFA;\n",
              "      --hover-fill-color: #174EA6;\n",
              "      --disabled-fill-color: #AAA;\n",
              "      --disabled-bg-color: #DDD;\n",
              "  }\n",
              "\n",
              "  [theme=dark] .colab-df-quickchart {\n",
              "      --bg-color: #3B4455;\n",
              "      --fill-color: #D2E3FC;\n",
              "      --hover-bg-color: #434B5C;\n",
              "      --hover-fill-color: #FFFFFF;\n",
              "      --disabled-bg-color: #3B4455;\n",
              "      --disabled-fill-color: #666;\n",
              "  }\n",
              "\n",
              "  .colab-df-quickchart {\n",
              "    background-color: var(--bg-color);\n",
              "    border: none;\n",
              "    border-radius: 50%;\n",
              "    cursor: pointer;\n",
              "    display: none;\n",
              "    fill: var(--fill-color);\n",
              "    height: 32px;\n",
              "    padding: 0;\n",
              "    width: 32px;\n",
              "  }\n",
              "\n",
              "  .colab-df-quickchart:hover {\n",
              "    background-color: var(--hover-bg-color);\n",
              "    box-shadow: 0 1px 2px rgba(60, 64, 67, 0.3), 0 1px 3px 1px rgba(60, 64, 67, 0.15);\n",
              "    fill: var(--button-hover-fill-color);\n",
              "  }\n",
              "\n",
              "  .colab-df-quickchart-complete:disabled,\n",
              "  .colab-df-quickchart-complete:disabled:hover {\n",
              "    background-color: var(--disabled-bg-color);\n",
              "    fill: var(--disabled-fill-color);\n",
              "    box-shadow: none;\n",
              "  }\n",
              "\n",
              "  .colab-df-spinner {\n",
              "    border: 2px solid var(--fill-color);\n",
              "    border-color: transparent;\n",
              "    border-bottom-color: var(--fill-color);\n",
              "    animation:\n",
              "      spin 1s steps(1) infinite;\n",
              "  }\n",
              "\n",
              "  @keyframes spin {\n",
              "    0% {\n",
              "      border-color: transparent;\n",
              "      border-bottom-color: var(--fill-color);\n",
              "      border-left-color: var(--fill-color);\n",
              "    }\n",
              "    20% {\n",
              "      border-color: transparent;\n",
              "      border-left-color: var(--fill-color);\n",
              "      border-top-color: var(--fill-color);\n",
              "    }\n",
              "    30% {\n",
              "      border-color: transparent;\n",
              "      border-left-color: var(--fill-color);\n",
              "      border-top-color: var(--fill-color);\n",
              "      border-right-color: var(--fill-color);\n",
              "    }\n",
              "    40% {\n",
              "      border-color: transparent;\n",
              "      border-right-color: var(--fill-color);\n",
              "      border-top-color: var(--fill-color);\n",
              "    }\n",
              "    60% {\n",
              "      border-color: transparent;\n",
              "      border-right-color: var(--fill-color);\n",
              "    }\n",
              "    80% {\n",
              "      border-color: transparent;\n",
              "      border-right-color: var(--fill-color);\n",
              "      border-bottom-color: var(--fill-color);\n",
              "    }\n",
              "    90% {\n",
              "      border-color: transparent;\n",
              "      border-bottom-color: var(--fill-color);\n",
              "    }\n",
              "  }\n",
              "</style>\n",
              "\n",
              "  <script>\n",
              "    async function quickchart(key) {\n",
              "      const quickchartButtonEl =\n",
              "        document.querySelector('#' + key + ' button');\n",
              "      quickchartButtonEl.disabled = true;  // To prevent multiple clicks.\n",
              "      quickchartButtonEl.classList.add('colab-df-spinner');\n",
              "      try {\n",
              "        const charts = await google.colab.kernel.invokeFunction(\n",
              "            'suggestCharts', [key], {});\n",
              "      } catch (error) {\n",
              "        console.error('Error during call to suggestCharts:', error);\n",
              "      }\n",
              "      quickchartButtonEl.classList.remove('colab-df-spinner');\n",
              "      quickchartButtonEl.classList.add('colab-df-quickchart-complete');\n",
              "    }\n",
              "    (() => {\n",
              "      let quickchartButtonEl =\n",
              "        document.querySelector('#df-68f48249-4d28-44b0-830d-ecac0a4b3e04 button');\n",
              "      quickchartButtonEl.style.display =\n",
              "        google.colab.kernel.accessAllowed ? 'block' : 'none';\n",
              "    })();\n",
              "  </script>\n",
              "</div>\n",
              "\n",
              "    </div>\n",
              "  </div>\n"
            ],
            "application/vnd.google.colaboratory.intrinsic+json": {
              "type": "dataframe",
              "variable_name": "df"
            }
          },
          "metadata": {},
          "execution_count": 2
        }
      ]
    },
    {
      "cell_type": "code",
      "source": [
        "df.dtypes.unique()"
      ],
      "metadata": {
        "colab": {
          "base_uri": "https://localhost:8080/"
        },
        "id": "pTzV6Vy9dvDQ",
        "outputId": "b7f9dac6-30b8-41e4-f8ae-7ce474a11576"
      },
      "execution_count": null,
      "outputs": [
        {
          "output_type": "execute_result",
          "data": {
            "text/plain": [
              "array([dtype('O'), dtype('float64'), dtype('int64')], dtype=object)"
            ]
          },
          "metadata": {},
          "execution_count": 3
        }
      ]
    },
    {
      "cell_type": "code",
      "source": [
        "df['[output]arousal'].unique()"
      ],
      "metadata": {
        "colab": {
          "base_uri": "https://localhost:8080/"
        },
        "id": "7O8gRgZjat5l",
        "outputId": "eaf4ec4f-1b15-4530-d936-f74a07b25570"
      },
      "execution_count": null,
      "outputs": [
        {
          "output_type": "execute_result",
          "data": {
            "text/plain": [
              "array([0.21428571, 0.14285714, 0.07142857, ..., 0.94702602, 0.96561338,\n",
              "       0.98420074])"
            ]
          },
          "metadata": {},
          "execution_count": 4
        }
      ]
    },
    {
      "cell_type": "code",
      "source": [
        "!pip install pytorch-tabnet -q"
      ],
      "metadata": {
        "colab": {
          "base_uri": "https://localhost:8080/"
        },
        "id": "ObAx-3egb03Y",
        "outputId": "6d078d26-3732-4b46-e3fd-fba7079f083c"
      },
      "execution_count": null,
      "outputs": [
        {
          "output_type": "stream",
          "name": "stdout",
          "text": [
            "\u001b[?25l     \u001b[90m━━━━━━━━━━━━━━━━━━━━━━━━━━━━━━━━━━━━━━━━\u001b[0m \u001b[32m0.0/44.5 kB\u001b[0m \u001b[31m?\u001b[0m eta \u001b[36m-:--:--\u001b[0m\r\u001b[2K     \u001b[90m━━━━━━━━━━━━━━━━━━━━━━━━━━━━━━━━━━━━━━━━\u001b[0m \u001b[32m44.5/44.5 kB\u001b[0m \u001b[31m2.4 MB/s\u001b[0m eta \u001b[36m0:00:00\u001b[0m\n",
            "\u001b[?25h"
          ]
        }
      ]
    },
    {
      "cell_type": "code",
      "source": [
        "from pytorch_tabnet.tab_model import TabNetRegressor\n",
        "\n",
        "import torch\n",
        "from sklearn.preprocessing import LabelEncoder\n",
        "from sklearn.metrics import mean_squared_error\n",
        "import numpy as np\n"
      ],
      "metadata": {
        "id": "yEusJZBbeKI2"
      },
      "execution_count": null,
      "outputs": []
    },
    {
      "cell_type": "code",
      "source": [
        "categorical_columns = []\n",
        "categorical_dims =  {}\n",
        "for col in df.columns[df.dtypes == object]:\n",
        "    print(col, df[col].nunique())\n",
        "    l_enc = LabelEncoder()\n",
        "    df[col] = df[col].fillna(\"NA\")\n",
        "    df[col] = l_enc.fit_transform(df[col].values)\n",
        "    categorical_columns.append(col)\n",
        "    categorical_dims[col] = len(l_enc.classes_)\n",
        "for col in df.columns[df.dtypes == 'int64']:\n",
        "    df.fillna(df.loc[:, col].mean(), inplace=True)\n",
        "\n",
        "for col in df.columns[df.dtypes == 'float64']:\n",
        "    df.fillna(df.loc[:, col].mean(), inplace=True)"
      ],
      "metadata": {
        "colab": {
          "base_uri": "https://localhost:8080/"
        },
        "id": "n1eHXNfxbRgF",
        "outputId": "1ef4aaf3-b67c-4f6f-f25d-eff97e1da76c"
      },
      "execution_count": null,
      "outputs": [
        {
          "output_type": "stream",
          "name": "stdout",
          "text": [
            "[control]genre 3\n",
            "[control]player_id 122\n",
            "[control]session_id 995\n",
            "[control]game 9\n",
            "[control]time_index 522\n",
            "[string]key_presses 53609\n",
            "[string]player_aim_target 70\n",
            "[string]bot_damaged_by 9\n",
            "[string]player_damaged_by 25\n",
            "[string]bot_types 64\n",
            "[string]pick_up_types 27\n"
          ]
        }
      ]
    },
    {
      "cell_type": "code",
      "source": [
        "target = '[output]arousal'\n",
        "\n",
        "features = [ col for col in df.columns if col not in [target]]\n",
        "\n",
        "cat_idxs = [ i for i, f in enumerate(features) if f in categorical_columns]\n",
        "cat_dims = [ categorical_dims[f] for i, f in enumerate(features) if f in categorical_columns]\n",
        "cat_dims"
      ],
      "metadata": {
        "colab": {
          "base_uri": "https://localhost:8080/"
        },
        "id": "JMRwj3WHeZZQ",
        "outputId": "4ceb6ff7-54cb-401c-f0cf-a987b1c77dd7"
      },
      "execution_count": null,
      "outputs": [
        {
          "output_type": "execute_result",
          "data": {
            "text/plain": [
              "[3, 122, 995, 9, 522, 53610, 71, 10, 26, 65, 28]"
            ]
          },
          "metadata": {},
          "execution_count": 8
        }
      ]
    },
    {
      "cell_type": "code",
      "source": [
        "cat_emb_dim = [2, 64, 128, 6, 128, 1024, 16, 3,8,4,5]"
      ],
      "metadata": {
        "id": "m8qa0b1zetf6"
      },
      "execution_count": null,
      "outputs": []
    },
    {
      "cell_type": "code",
      "source": [
        "clf = TabNetRegressor(cat_dims=cat_dims, cat_emb_dim=cat_emb_dim, cat_idxs=cat_idxs)"
      ],
      "metadata": {
        "colab": {
          "base_uri": "https://localhost:8080/"
        },
        "id": "Og9QLWnnfKXN",
        "outputId": "3af0b7cc-ae86-48fb-b59e-ee2e1f553ec3"
      },
      "execution_count": null,
      "outputs": [
        {
          "output_type": "stream",
          "name": "stderr",
          "text": [
            "/usr/local/lib/python3.10/dist-packages/pytorch_tabnet/abstract_model.py:82: UserWarning: Device used : cuda\n",
            "  warnings.warn(f\"Device used : {self.device}\")\n"
          ]
        }
      ]
    },
    {
      "cell_type": "code",
      "source": [
        "X_train = df[features].values\n",
        "y_train = df[target].values.reshape(-1, 1)"
      ],
      "metadata": {
        "id": "MtL2AUZbfNet"
      },
      "execution_count": null,
      "outputs": []
    },
    {
      "cell_type": "code",
      "source": [
        "clf.fit(\n",
        "    X_train=X_train, y_train=y_train,\n",
        "    eval_metric=['rmsle', 'mae', 'rmse', 'mse'],\n",
        "    max_epochs=25,\n",
        "    patience=50,\n",
        "    batch_size=1024, virtual_batch_size=128,\n",
        "    num_workers=0,\n",
        "    drop_last=False\n",
        ")"
      ],
      "metadata": {
        "colab": {
          "base_uri": "https://localhost:8080/"
        },
        "id": "NjlVQWEwfXlh",
        "outputId": "7e77037b-ae33-4a99-c36e-c907ffebbd13"
      },
      "execution_count": null,
      "outputs": [
        {
          "output_type": "stream",
          "name": "stderr",
          "text": [
            "/usr/local/lib/python3.10/dist-packages/pytorch_tabnet/abstract_model.py:687: UserWarning: No early stopping will be performed, last training weights will be used.\n",
            "  warnings.warn(wrn_msg)\n"
          ]
        },
        {
          "output_type": "stream",
          "name": "stdout",
          "text": [
            "epoch 0  | loss: 0.07822 |  0:00:35s\n",
            "epoch 1  | loss: 0.06674 |  0:01:10s\n",
            "epoch 2  | loss: 0.05683 |  0:01:43s\n",
            "epoch 3  | loss: 0.04041 |  0:02:16s\n",
            "epoch 4  | loss: 0.03082 |  0:02:50s\n",
            "epoch 5  | loss: 0.02684 |  0:03:24s\n",
            "epoch 6  | loss: 0.02378 |  0:03:58s\n",
            "epoch 7  | loss: 0.02129 |  0:04:31s\n",
            "epoch 8  | loss: 0.0195  |  0:05:05s\n",
            "epoch 9  | loss: 0.01832 |  0:05:38s\n",
            "epoch 10 | loss: 0.01671 |  0:06:11s\n",
            "epoch 11 | loss: 0.01535 |  0:06:45s\n",
            "epoch 12 | loss: 0.01435 |  0:07:19s\n",
            "epoch 13 | loss: 0.01334 |  0:07:53s\n",
            "epoch 14 | loss: 0.0127  |  0:08:27s\n",
            "epoch 15 | loss: 0.01254 |  0:09:01s\n",
            "epoch 16 | loss: 0.01138 |  0:09:34s\n",
            "epoch 17 | loss: 0.01113 |  0:10:08s\n",
            "epoch 18 | loss: 0.01033 |  0:10:42s\n",
            "epoch 19 | loss: 0.01007 |  0:11:17s\n",
            "epoch 20 | loss: 0.00915 |  0:11:51s\n",
            "epoch 21 | loss: 0.00852 |  0:12:25s\n",
            "epoch 22 | loss: 0.00838 |  0:13:00s\n",
            "epoch 23 | loss: 0.00823 |  0:13:33s\n",
            "epoch 24 | loss: 0.00757 |  0:14:08s\n"
          ]
        }
      ]
    },
    {
      "cell_type": "code",
      "source": [
        "preds = clf.predict(X_train)\n",
        "y_true = y_train\n",
        "test_score = mean_squared_error(y_pred=preds, y_true=y_true)"
      ],
      "metadata": {
        "id": "7vz06tQgfknD"
      },
      "execution_count": null,
      "outputs": []
    },
    {
      "cell_type": "code",
      "source": [
        "print('Predictions: ', preds)"
      ],
      "metadata": {
        "colab": {
          "base_uri": "https://localhost:8080/"
        },
        "id": "TsXmZGuTv4Lb",
        "outputId": "20429a19-05c5-4339-945e-bb50867b3125"
      },
      "execution_count": null,
      "outputs": [
        {
          "output_type": "stream",
          "name": "stdout",
          "text": [
            "Predictions:  [[0.14831346]\n",
            " [0.10597676]\n",
            " [0.1109795 ]\n",
            " ...\n",
            " [0.53795314]\n",
            " [0.39252844]\n",
            " [0.36106905]]\n"
          ]
        }
      ]
    },
    {
      "cell_type": "code",
      "source": [
        "print(X_train[0])"
      ],
      "metadata": {
        "colab": {
          "base_uri": "https://localhost:8080/"
        },
        "id": "ZoiDv5Qg0J4C",
        "outputId": "4e9ef4ad-4995-40ca-8b2c-519c6c48769e"
      },
      "execution_count": null,
      "outputs": [
        {
          "output_type": "stream",
          "name": "stdout",
          "text": [
            "[0.00000000e+00 0.00000000e+00 9.36000000e+02 1.00000000e+00\n",
            " 0.00000000e+00 1.58929112e+12 0.00000000e+00 3.90000000e+01\n",
            " 0.00000000e+00 3.27868852e-01 3.33333333e-01 5.12821000e-01\n",
            " 0.00000000e+00 0.00000000e+00 0.00000000e+00 0.00000000e+00\n",
            " 0.00000000e+00 0.00000000e+00 0.00000000e+00 2.51748266e-01\n",
            " 2.50000000e-01 3.69060000e+04 2.80000000e+01 2.00000000e+00\n",
            " 3.27868852e-01 4.87179000e-01 0.00000000e+00 0.00000000e+00\n",
            " 0.00000000e+00 0.00000000e+00 1.00047416e+00 0.00000000e+00\n",
            " 1.00047416e+00 1.00000000e+00 1.00047416e+00 0.00000000e+00\n",
            " 1.00000000e+00 1.00047416e+00 0.00000000e+00 0.00000000e+00\n",
            " 1.00047416e+00 1.00047416e+00 1.00047416e+00 1.00047416e+00\n",
            " 1.00047416e+00 0.00000000e+00 0.00000000e+00 0.00000000e+00\n",
            " 0.00000000e+00 1.00047416e+00 0.00000000e+00 1.00047416e+00\n",
            " 0.00000000e+00 0.00000000e+00 0.00000000e+00 1.00047416e+00\n",
            " 0.00000000e+00 0.00000000e+00 1.00047416e+00 0.00000000e+00\n",
            " 0.00000000e+00 1.00047416e+00 1.00047416e+00 0.00000000e+00\n",
            " 1.00047416e+00 1.00047416e+00 1.00047416e+00 1.00047416e+00\n",
            " 1.00000000e+00 1.00047416e+00 1.00047416e+00 1.00047416e+00\n",
            " 1.00047416e+00 1.00047416e+00 1.00047416e+00 1.00047416e+00\n",
            " 1.00047416e+00 1.00047416e+00 1.00047416e+00 1.00047416e+00\n",
            " 1.00047416e+00 1.00047416e+00 0.00000000e+00 1.00047416e+00\n",
            " 1.00047416e+00 1.00047416e+00 1.00047416e+00 1.00047416e+00\n",
            " 1.00047416e+00 1.00047416e+00 1.00047416e+00 0.00000000e+00\n",
            " 1.00047416e+00 1.00047416e+00 1.00047416e+00 1.00047416e+00\n",
            " 1.00047416e+00 1.10000000e+01 1.30000000e+01 8.00000000e+00\n",
            " 1.00000000e+00 0.00000000e+00 1.00000000e+00 0.00000000e+00\n",
            " 0.00000000e+00 0.00000000e+00 0.00000000e+00 0.00000000e+00\n",
            " 0.00000000e+00 0.00000000e+00 0.00000000e+00 0.00000000e+00\n",
            " 0.00000000e+00 0.00000000e+00 0.00000000e+00 0.00000000e+00\n",
            " 0.00000000e+00 0.00000000e+00 0.00000000e+00 0.00000000e+00]\n"
          ]
        }
      ]
    },
    {
      "cell_type": "code",
      "source": [
        "print(preds[0])"
      ],
      "metadata": {
        "colab": {
          "base_uri": "https://localhost:8080/"
        },
        "id": "-V3URY040N-L",
        "outputId": "ff51066f-e6c2-428d-db04-f88551238205"
      },
      "execution_count": null,
      "outputs": [
        {
          "output_type": "stream",
          "name": "stdout",
          "text": [
            "[0.14831346]\n"
          ]
        }
      ]
    },
    {
      "cell_type": "code",
      "source": [
        "clf.feature_importances_"
      ],
      "metadata": {
        "colab": {
          "base_uri": "https://localhost:8080/"
        },
        "id": "4yg58ZAChltM",
        "outputId": "b4fb5a14-dc71-4cc0-d3fa-69fb6403908e"
      },
      "execution_count": null,
      "outputs": [
        {
          "output_type": "execute_result",
          "data": {
            "text/plain": [
              "array([1.09611470e-07, 0.00000000e+00, 1.66888897e-01, 0.00000000e+00,\n",
              "       0.00000000e+00, 0.00000000e+00, 2.76556602e-02, 0.00000000e+00,\n",
              "       2.85730744e-02, 0.00000000e+00, 0.00000000e+00, 0.00000000e+00,\n",
              "       0.00000000e+00, 0.00000000e+00, 0.00000000e+00, 0.00000000e+00,\n",
              "       0.00000000e+00, 0.00000000e+00, 2.37809775e-04, 2.82164542e-03,\n",
              "       0.00000000e+00, 0.00000000e+00, 0.00000000e+00, 0.00000000e+00,\n",
              "       2.39342357e-02, 0.00000000e+00, 1.76547264e-03, 0.00000000e+00,\n",
              "       0.00000000e+00, 0.00000000e+00, 0.00000000e+00, 0.00000000e+00,\n",
              "       0.00000000e+00, 0.00000000e+00, 0.00000000e+00, 0.00000000e+00,\n",
              "       0.00000000e+00, 0.00000000e+00, 0.00000000e+00, 0.00000000e+00,\n",
              "       0.00000000e+00, 0.00000000e+00, 0.00000000e+00, 0.00000000e+00,\n",
              "       0.00000000e+00, 0.00000000e+00, 0.00000000e+00, 2.36931763e-01,\n",
              "       0.00000000e+00, 0.00000000e+00, 2.41108323e-02, 0.00000000e+00,\n",
              "       7.49237666e-02, 0.00000000e+00, 0.00000000e+00, 1.46185922e-02,\n",
              "       0.00000000e+00, 0.00000000e+00, 0.00000000e+00, 0.00000000e+00,\n",
              "       0.00000000e+00, 0.00000000e+00, 0.00000000e+00, 0.00000000e+00,\n",
              "       0.00000000e+00, 0.00000000e+00, 0.00000000e+00, 0.00000000e+00,\n",
              "       4.00944780e-02, 0.00000000e+00, 0.00000000e+00, 0.00000000e+00,\n",
              "       0.00000000e+00, 2.31927964e-03, 1.22663369e-02, 0.00000000e+00,\n",
              "       0.00000000e+00, 0.00000000e+00, 0.00000000e+00, 0.00000000e+00,\n",
              "       0.00000000e+00, 0.00000000e+00, 0.00000000e+00, 0.00000000e+00,\n",
              "       0.00000000e+00, 3.49323652e-06, 0.00000000e+00, 0.00000000e+00,\n",
              "       0.00000000e+00, 0.00000000e+00, 0.00000000e+00, 0.00000000e+00,\n",
              "       0.00000000e+00, 0.00000000e+00, 0.00000000e+00, 0.00000000e+00,\n",
              "       0.00000000e+00, 0.00000000e+00, 0.00000000e+00, 0.00000000e+00,\n",
              "       0.00000000e+00, 0.00000000e+00, 0.00000000e+00, 0.00000000e+00,\n",
              "       3.42854553e-01, 0.00000000e+00, 0.00000000e+00, 0.00000000e+00,\n",
              "       0.00000000e+00, 0.00000000e+00, 0.00000000e+00, 0.00000000e+00,\n",
              "       0.00000000e+00, 0.00000000e+00, 0.00000000e+00, 0.00000000e+00,\n",
              "       0.00000000e+00, 0.00000000e+00, 0.00000000e+00, 0.00000000e+00])"
            ]
          },
          "metadata": {},
          "execution_count": 48
        }
      ]
    },
    {
      "cell_type": "code",
      "source": [
        "from matplotlib import pyplot as plt\n",
        "%matplotlib inline\n",
        "explain_matrix, masks = clf.explain(X_train)\n",
        "fig, axs = plt.subplots(1, 3, figsize=(20,20))\n",
        "\n",
        "for i in range(3):\n",
        "    axs[i].imshow(masks[i][:50])\n",
        "    axs[i].set_title(f\"mask {i}\")"
      ],
      "metadata": {
        "colab": {
          "base_uri": "https://localhost:8080/",
          "height": 195
        },
        "id": "wxvBs6XbhpEa",
        "outputId": "f8a70620-d451-4dcc-e947-0908e822c1f7"
      },
      "execution_count": null,
      "outputs": [
        {
          "output_type": "display_data",
          "data": {
            "text/plain": [
              "<Figure size 2000x2000 with 3 Axes>"
            ],
            "image/png": "[encoded data removed]"
          },
          "metadata": {}
        }
      ]
    },
    {
      "cell_type": "code",
      "source": [],
      "metadata": {
        "id": "l8eyZ2nkhyZV"
      },
      "execution_count": null,
      "outputs": []
    }
  ]
}
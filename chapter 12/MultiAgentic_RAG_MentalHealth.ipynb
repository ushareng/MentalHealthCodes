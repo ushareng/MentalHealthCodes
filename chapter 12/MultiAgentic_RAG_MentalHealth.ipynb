{
  "nbformat": 4,
  "nbformat_minor": 0,
  "metadata": {
    "colab": {
      "provenance": []
    },
    "kernelspec": {
      "name": "python3",
      "display_name": "Python 3"
    },
    "language_info": {
      "name": "python"
    }
  },
  "cells": [
    {
      "cell_type": "markdown",
      "source": [
        "**MultiAgentic RAG for Mental Healthcare**:\n",
        "\n",
        "The notebook implements a system for answering user queries related to mental health. It utilizes a combination of a Frequently Asked Questions (FAQ) knowledge base and internet search (specifically Wikipedia) to provide relevant information.\n",
        "\n",
        "**Workflow**:\n",
        "\n",
        "**Installation**: Installs necessary libraries like langchain, tiktoken, openai, faiss-cpu, wikipedia, bs4, and requests.\n",
        "\n",
        "**Initialization**: Sets up the OpenAI API key, loads pre-defined FAQs, creates a vector store for semantic search using FAISS, and initializes the language model (LLM) with gpt-4.\n",
        "\n",
        "**Routing**: A route_query function determines whether the user query should be addressed by the FAQ knowledge base or an internet search based on the query's content.\n",
        "\n",
        "**FAQ Agent**: The faq_lookup function searches the FAQ knowledge base for the most similar question to the user's query and returns the corresponding answer if a match is found above a certain threshold.\n",
        "\n",
        "**Search Agent**: If the routing agent directs the query to an internet search, the internet_search_wiki function queries Wikipedia for relevant articles. It extracts snippets from the top articles and uses the LLM to summarize the information, providing citations. If no Wikipedia results are found, it falls back to a simple Google WebView scrape.\n",
        "\n",
        "**Orchestrator**: The answer_query function orchestrates the entire process by first routing the query, then invoking either the FAQ or search agent based on the route, and finally returning the answer.\n",
        "\n",
        "**Example Usage**: The notebook includes example queries demonstrating how to use the system to answer questions about anxiety attacks and depression.\n",
        "\n",
        "In essence, the notebook provides a basic framework for a mental health chatbot that can leverage both pre-defined knowledge and internet search to address user inquiries."
      ],
      "metadata": {
        "id": "Ybggb6gyiqmn"
      }
    },
    {
      "cell_type": "code",
      "execution_count": null,
      "metadata": {
        "colab": {
          "base_uri": "https://localhost:8080/"
        },
        "id": "wl3ArNE_XLe7",
        "outputId": "e75fa4e8-d1a0-4533-e6ac-ac771582b8aa"
      },
      "outputs": [
        {
          "output_type": "stream",
          "name": "stdout",
          "text": [
            "Requirement already satisfied: tiktoken in /usr/local/lib/python3.11/dist-packages (0.9.0)\n",
            "Requirement already satisfied: regex>=2022.1.18 in /usr/local/lib/python3.11/dist-packages (from tiktoken) (2024.11.6)\n",
            "Requirement already satisfied: requests>=2.26.0 in /usr/local/lib/python3.11/dist-packages (from tiktoken) (2.32.3)\n",
            "Requirement already satisfied: charset-normalizer<4,>=2 in /usr/local/lib/python3.11/dist-packages (from requests>=2.26.0->tiktoken) (3.4.1)\n",
            "Requirement already satisfied: idna<4,>=2.5 in /usr/local/lib/python3.11/dist-packages (from requests>=2.26.0->tiktoken) (3.10)\n",
            "Requirement already satisfied: urllib3<3,>=1.21.1 in /usr/local/lib/python3.11/dist-packages (from requests>=2.26.0->tiktoken) (2.4.0)\n",
            "Requirement already satisfied: certifi>=2017.4.17 in /usr/local/lib/python3.11/dist-packages (from requests>=2.26.0->tiktoken) (2025.4.26)\n"
          ]
        }
      ],
      "source": [
        "# ─── 1) Install dependencies ────────────────────────────────────────────────\n",
        "!pip install --quiet langchain_community\n",
        "!pip install tiktoken\n",
        "!pip install --quiet openai langchain faiss-cpu wikipedia bs4 requests"
      ]
    },
    {
      "cell_type": "code",
      "source": [
        "# ─── 2) Imports & Config ───────────────────────────────────────────────────\n",
        "import os\n",
        "import wikipedia\n",
        "import requests\n",
        "from bs4 import BeautifulSoup\n",
        "\n",
        "from langchain.chat_models import ChatOpenAI\n",
        "from langchain.schema import HumanMessage, SystemMessage\n",
        "from langchain.vectorstores import FAISS\n",
        "from langchain.embeddings.openai import OpenAIEmbeddings\n",
        "\n",
        "# Set your OpenAI key in Colab via:\n",
        "#   %env OPENAI_API_KEY=sk-...\n",
        "OPENAI_API_KEY = \"PASTE YOUR OPEN AI API KEY\"\n",
        "assert OPENAI_API_KEY, \"⚠️ Please set the OPENAI_API_KEY environment variable\"\n",
        "\n",
        "# ─── 3) FAQ Data & FAISS Setup ─────────────────────────────────────────────\n",
        "faqs = [\n",
        "    {\"question\": \"How do I calm anxiety attacks?\",\n",
        "     \"answer\": \"Try grounding techniques: the “5-4-3-2-1” exercise, deep diaphragmatic breathing, \"\n",
        "               \"and remind yourself that panic will pass. If it persists, reach out for support.\"},\n",
        "    {\"question\": \"What are nighttime anxiety coping strategies?\",\n",
        "     \"answer\": \"Use progressive muscle relaxation, limit caffeine in the afternoon, maintain a bedtime ritual, \"\n",
        "               \"and journal your worries before sleep.\"},\n",
        "    {\"question\": \"What is a panic attack?\",\n",
        "     \"answer\": \"A panic attack is a sudden episode of intense fear with physical symptoms like heart palpitations, \"\n",
        "               \"shortness of breath, and dizziness.\"},\n",
        "]\n",
        "\n",
        "# Pass the OPENAI_API_KEY directly to OpenAIEmbeddings\n",
        "embeddings   = OpenAIEmbeddings(openai_api_key=OPENAI_API_KEY) # This line is changed\n",
        "questions    = [f[\"question\"] for f in faqs]\n",
        "vector_store = FAISS.from_texts(questions, embeddings, metadatas=faqs)\n",
        "\n",
        "# ─── 4) Initialize LLM ─────────────────────────────────────────────────────\n",
        "# Pass the OPENAI_API_KEY to ChatOpenAI\n",
        "llm = ChatOpenAI(model=\"gpt-4o\", temperature=0.5, openai_api_key=OPENAI_API_KEY)\n",
        "\n",
        "# ─── 5) Router Agent ───────────────────────────────────────────────────────\n",
        "def route_query(query: str) -> str:\n",
        "    \"\"\"Routes the query to either FAQ or search based on presence in FAQs.\"\"\"\n",
        "    # Check if the query matches any FAQ question:\n",
        "    for faq in faqs:\n",
        "        if faq[\"question\"].lower() == query.lower():\n",
        "            return \"faq\"  # Route to FAQ if query matches\n",
        "\n",
        "    # If not found in FAQs, route to search:\n",
        "    return \"search\"\n",
        "\n",
        "# ─── 6) FAQ Agent ─────────────────────────────────────────────────────────\n",
        "def faq_lookup(query: str, threshold: float = 0.0):\n",
        "    print(\"Invoking FAQ Agent\")\n",
        "    print(\"------------------\")\n",
        "    results = vector_store.similarity_search_with_score(query, k=3)\n",
        "    top_doc, score = results[0]\n",
        "    if score >= threshold:\n",
        "        return top_doc.metadata[\"answer\"]\n",
        "    return None\n",
        "\n",
        "# ─── 7) Search Agent: Wikipedia Fallback ──────────────────────────────────\n",
        "def internet_search_wiki(query: str, num_pages: int = 3):\n",
        "    print(\"Invoking Internet Search Agent\")\n",
        "    print(\"------------------\")\n",
        "    wikipedia.set_lang(\"en\")\n",
        "    titles = wikipedia.search(query, results=num_pages)\n",
        "    snippets = []\n",
        "    for title in titles:\n",
        "        try:\n",
        "            page = wikipedia.page(title, auto_suggest=False)\n",
        "            # take the first paragraph\n",
        "            first_para = page.content.split(\"\\n\\n\")[0]\n",
        "            snippets.append((first_para, page.url))\n",
        "        except Exception:\n",
        "            continue\n",
        "        if len(snippets) >= num_pages:\n",
        "            break\n",
        "\n",
        "    # If no wiki pages found, fallback to a simple Google WebView scrape:\n",
        "    if not snippets:\n",
        "        return (\"Sorry, I couldn't find relevant Wikipedia articles.\", \"\")\n",
        "\n",
        "    # Summarize + cite\n",
        "    summary_prompt = [\n",
        "        SystemMessage(content=(\n",
        "            \"You are an expert mental health summarizer. Given text snippets and URLs, \"\n",
        "            \"produce a concise, empathetic answer with in-text citations [1], [2], …\"\n",
        "        )),\n",
        "        HumanMessage(content=str(snippets))\n",
        "    ]\n",
        "    return llm(summary_prompt).content\n",
        "\n",
        "# ─── 8) Orchestrator ──────────────────────────────────────────────────────\n",
        "def answer_query(query: str):\n",
        "    route = route_query(query)  # Store the route result\n",
        "    if route == \"faq\":\n",
        "        ans = faq_lookup(query)\n",
        "        if ans:\n",
        "            return f\"**FAQ Answer:**\\n\\n{ans}\"\n",
        "        else:\n",
        "            return \"**FAQ Agent:**\\n\\nNo relevant FAQ found.\"  # Return a message indicating FAQ failure\n",
        "    elif route == \"search\":  # Check if the route is \"search\"\n",
        "        return internet_search_wiki(query)\n",
        "    else:\n",
        "        return \"**Routing Error:**\\n\\nUnable to determine the appropriate route.\"  # Handle unexpected route results\n",
        "\n",
        "# ─── 9) Example Usage ────────────────────────────────────────────────────\n",
        "if __name__ == \"__main__\":\n",
        "    print(\"Query 1 : How do I calm anxiety attacks?\")\n",
        "    print(answer_query(\"How do I calm anxiety attacks?\"))\n",
        "    print(\"---------------------------------------------\")\n",
        "    print(\"Query 2 : How do I treat depression?\")\n",
        "    print(answer_query(\"How do I treat depression?\"))"
      ],
      "metadata": {
        "colab": {
          "base_uri": "https://localhost:8080/"
        },
        "id": "VBUjwy9dXMdL",
        "outputId": "24589dcc-b51c-412a-b126-cda1ec6df589"
      },
      "execution_count": null,
      "outputs": [
        {
          "output_type": "stream",
          "name": "stdout",
          "text": [
            "Query 1 : How do I calm anxiety attacks?\n",
            "Invoking FAQ Agent\n",
            "------------------\n",
            "**FAQ Answer:**\n",
            "\n",
            "Try grounding techniques: the “5-4-3-2-1” exercise, deep diaphragmatic breathing, and remind yourself that panic will pass. If it persists, reach out for support.\n",
            "---------------------------------------------\n",
            "Query 2 : How do I treat depression?\n",
            "Invoking Internet Search Agent\n",
            "------------------\n",
            "Major depressive disorder (MDD), also known as clinical depression, is a significant mental health condition characterized by persistent low mood, low self-esteem, and a loss of interest or pleasure in activities that are typically enjoyable [1]. It affects a substantial portion of the population, with onset most common in a person's 20s and affecting females more frequently than males [1]. The disorder is diagnosed through reported experiences and behaviors, as there are no laboratory tests for MDD, although tests may be conducted to exclude other conditions [1]. \n",
            "\n",
            "Treatment often involves psychotherapy and antidepressant medications, though the effectiveness of these medications can be controversial. In severe cases, hospitalization or electroconvulsive therapy (ECT) may be necessary [1]. The causes of MDD are complex, involving genetic, environmental, and psychological factors, with a notable genetic component [1]. Depression impacts personal and professional life, affecting sleep, eating habits, and overall health [1].\n",
            "\n",
            "Depression, more broadly, affects about 3.5% of the global population, or approximately 280 million people worldwide as of 2020 [3]. It is characterized by low mood, aversion to activity, and can lead to symptoms such as sadness, hopelessness, and suicidal thoughts [3]. It can be a symptom of mood disorders like MDD, bipolar disorder, and dysthymia, or a reaction to life events or physical illnesses [3].\n",
            "\n",
            "In recent years, there has been renewed interest in the potential of psychedelics to treat depression. Michael Pollan's book, \"How to Change Your Mind,\" explores the history and resurgence of psychedelic research, suggesting these substances might offer insights into consciousness and mental health treatment [2]. This area of research is gaining attention for its potential to provide alternative treatment options for depression and other mental health conditions [2]. \n",
            "\n",
            "For more detailed information, you can refer to the sources: [1] [2] [3].\n"
          ]
        }
      ]
    }
  ]
}